{
 "cells": [
  {
   "cell_type": "markdown",
   "metadata": {},
   "source": [
    "## Reporting: wragle_report\n",
    "\n",
    "The dataset that was wrangled for this project was from the tweet archive of Twitter user @dog_rates, also known as WeRateDogs a Twitter account that rates people's dogs with a humourous comment about the dog.\n",
    "The wrangling process comprised of three stages namely:\n",
    "\n",
    "1. Gathering\n",
    "2. Assessing\n",
    "3. Cleaning\n",
    "\n",
    "### Gathering\n",
    "\n",
    "Three different datasets were gathered for this project using different methods of gathering.\n",
    "\n",
    "- the twitter_archive_enhanced.csv was the file on hand, it was manually downloaded, uploaded and read into a pandas dataframe  using pandas pd.read_csv method.\n",
    "- the image_predictions.tsv a file that is hosted on Udacity server was downloaded programmatically using the requests library and the following url: [external link text](https://d17h27t6h515a5.cloudfront.net/topher/2017/August/599fd2ad_image-predictions/image-predictions.tsv)\n",
    "- additional data such as each tweet's retweet count and favorite (\"like\") count was downloaded from twitter api using the tweepy library. For the purpose of the project, the provided twitter-jason file was used as there were some issues with fetching twitter api's\n",
    "\n",
    "### Assessing\n",
    "\n",
    "- The datasets were assessed individually both visually and programmatically to chek for quality and tidiness issues.\n",
    "- Below were issues detected during the assess phase:\n",
    "\n",
    "#### Quality issues\n",
    "twitter_archive\n",
    "- Missing values(in_reply_to_status_id, in_reply_to_user_id, retweeted_status_id, retweeted_status_user_id, retweeted_status_timestamp)    \n",
    "\n",
    "- Invalid timestamp datatype(object instead of datetime)\n",
    "\n",
    "- Invalid tweet_id datatype( integer instead of object)\n",
    "\n",
    "- name column has invalid names namely: None\n",
    "\n",
    "- Rating denominators not equal 10\n",
    "\n",
    "- Rows with retweets (As per the project motivation, you only want original ratings (no retweets) that have images.)\n",
    "\n",
    "Image prediction\n",
    "- Naming not consistent in p1,p2,p3 (Other names start with capital letters, while others with small letters)\n",
    "- Underscores used instead of spaces for multi-word naming\n",
    "- Invalid tweet_id datatype\n",
    "\n",
    "Tweets_api\n",
    "- Invalid id datatype( integer instead of object)\n",
    "\n",
    "#### Tidiness issues\n",
    "- three different dataframes\n",
    "\n",
    "- four colums(doggo\", \"flooter\", \"pupper\", \"puppo\") which can be categorized into one\n",
    "\n",
    "#### Cleaning\n",
    "- Copies of the three dataframes were made before cleaning the data to ensure changes were ade on copy rather the original dataset.\n",
    "- Issues that were identified during the assess phase were cleaned and the three datasets were combined into one tidy master dataset\n",
    "- The clean master dataset was stored using the pandas to_csv method."
   ]
  },
  {
   "cell_type": "code",
   "execution_count": null,
   "metadata": {},
   "outputs": [],
   "source": []
  }
 ],
 "metadata": {
  "kernelspec": {
   "display_name": "Python 3 (ipykernel)",
   "language": "python",
   "name": "python3"
  },
  "language_info": {
   "codemirror_mode": {
    "name": "ipython",
    "version": 3
   },
   "file_extension": ".py",
   "mimetype": "text/x-python",
   "name": "python",
   "nbconvert_exporter": "python",
   "pygments_lexer": "ipython3",
   "version": "3.9.12"
  }
 },
 "nbformat": 4,
 "nbformat_minor": 2
}
